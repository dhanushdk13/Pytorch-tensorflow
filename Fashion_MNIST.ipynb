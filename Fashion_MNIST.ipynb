{
  "nbformat": 4,
  "nbformat_minor": 0,
  "metadata": {
    "colab": {
      "provenance": []
    },
    "kernelspec": {
      "name": "python3",
      "display_name": "Python 3"
    },
    "language_info": {
      "name": "python"
    }
  },
  "cells": [
    {
      "cell_type": "code",
      "execution_count": 1,
      "metadata": {
        "colab": {
          "base_uri": "https://localhost:8080/"
        },
        "id": "u9ONVr-_s6ra",
        "outputId": "93075501-8429-43d2-d943-3302a409e712"
      },
      "outputs": [
        {
          "output_type": "stream",
          "name": "stdout",
          "text": [
            "2.12.0\n"
          ]
        }
      ],
      "source": [
        "import tensorflow as tf\n",
        "print(tf.__version__)"
      ]
    },
    {
      "cell_type": "code",
      "source": [
        "#Loading fashion mnist dataset\n",
        "\n",
        "fmnist = tf.keras.datasets.fashion_mnist"
      ],
      "metadata": {
        "id": "rckpUduDzQeO"
      },
      "execution_count": 4,
      "outputs": []
    },
    {
      "cell_type": "code",
      "source": [
        "##Load data gives 2 tuples of 2 lists each one for training and other for testing\n",
        "\n",
        "(training_images,training_labels), (testing_images,testing_labels) = fmnist.load_data()"
      ],
      "metadata": {
        "colab": {
          "base_uri": "https://localhost:8080/"
        },
        "id": "vM6qID3czY8k",
        "outputId": "1859c4bc-8382-41b0-e0da-5119e4bc4c3f"
      },
      "execution_count": 5,
      "outputs": [
        {
          "output_type": "stream",
          "name": "stdout",
          "text": [
            "Downloading data from https://storage.googleapis.com/tensorflow/tf-keras-datasets/train-labels-idx1-ubyte.gz\n",
            "29515/29515 [==============================] - 0s 1us/step\n",
            "Downloading data from https://storage.googleapis.com/tensorflow/tf-keras-datasets/train-images-idx3-ubyte.gz\n",
            "26421880/26421880 [==============================] - 2s 0us/step\n",
            "Downloading data from https://storage.googleapis.com/tensorflow/tf-keras-datasets/t10k-labels-idx1-ubyte.gz\n",
            "5148/5148 [==============================] - 0s 0us/step\n",
            "Downloading data from https://storage.googleapis.com/tensorflow/tf-keras-datasets/t10k-images-idx3-ubyte.gz\n",
            "4422102/4422102 [==============================] - 1s 0us/step\n"
          ]
        }
      ]
    },
    {
      "cell_type": "markdown",
      "source": [
        "##Lets take a look at how the data is"
      ],
      "metadata": {
        "id": "K4Wn-JAF0N6B"
      }
    },
    {
      "cell_type": "code",
      "source": [
        "import numpy as np\n",
        "import matplotlib.pyplot as plt\n",
        "\n",
        "# this varies from 0 to 59999\n",
        "index=32\n",
        "\n",
        "#no of characters per row\n",
        "np.set_printoptions(linewidth=320)\n",
        "\n",
        "print(f'Label: {training_labels[index]}')\n",
        "print(f'Image pixel array: {training_images[index]}')\n",
        "\n",
        "plt.imshow(training_images[index])"
      ],
      "metadata": {
        "colab": {
          "base_uri": "https://localhost:8080/",
          "height": 951
        },
        "id": "A6y6gahy0DYL",
        "outputId": "236d1cf1-17f2-40fe-a1a6-0e0f11a56d51"
      },
      "execution_count": 8,
      "outputs": [
        {
          "output_type": "stream",
          "name": "stdout",
          "text": [
            "Label: 6\n",
            "Image pixel array: [[  0   0   0   0   0   1   2   0   0   0   0  58  88 102  78 100 128  94   0   0   0   0   0   2   0   0   0   0]\n",
            " [  0   0   0   0   1   1   1   2   0   0   9 212 171 195 176 222 188 186  59   0   1   1   3   1   0   0   0   0]\n",
            " [  0   0   0   0   0   0   0   0   0   0 184 174 187 165 182 139 137 208 161  31   0   0   0   1   0   0   0   0]\n",
            " [  0   0   0   0   0   0   0  77 134 181 198 182 228 183 161 134 220 184 210 188 168  92   0   0   0   0   0   0]\n",
            " [  0   0   0   0   0   0 104 199 193 168 143 129 193 143 190 164 151 120 120 140 192 187 143   0   0   0   0   0]\n",
            " [  0   0   0   0   0   1 164 174 135 107 126 115 169 139 102 216 143 110 119 124 166 114 151  69   0   0   0   0]\n",
            " [  0   0   0   0   0  58 224 195 139 133 123 117 187 160 130 125 156 114 151 104 212 134 209 124   0   0   0   0]\n",
            " [  0   0   0   0   0 116 196 180 183 148 122 110  91 227  81 185 238 170 156  81 145  60 176 162   0   0   0   0]\n",
            " [  0   0   0   0   0 153 149 190 208 199 142  96 188 191 183 175 185 222 111 155  64 186 139 151   0   0   0   0]\n",
            " [  0   0   0   0   0 181 142 190 157 154 164 204 185 156 156 113 123  95 165 137 176 137 147 153   0   0   0   0]\n",
            " [  0   0   0   0   0 183 147 186  60 141 119 240 185 141 165 188 165  91 105 200 235 136 151 222   0   0   0   0]\n",
            " [  0   0   0   0   5 191 188 226 125 109 222  84 172 170 136 135 177 110 164 157 144 139 191 188   6   0   0   0]\n",
            " [  0   0   0   0   0 188 156 183 154 211  90 174 226 233 112 190 223 191 161 123 177 135 143 201  13   0   0   0]\n",
            " [  0   0   0   0   0 187 120 194 233 188 171 162 175 204 118 135 162 116 158 198 217 183 112 189  18   0   0   0]\n",
            " [  0   0   0   0   9 201 122 188 170 140 140 117 165 184 114 155 141 142 109 153 159 137 122 204  40   0   0   0]\n",
            " [  0   0   0   0  40 204 126 186 158 128 126  97 147 159 146 204 136 118  79 164 135 134 134 207  62   0   0   0]\n",
            " [  0   0   0   0  78 216 186 193 147 142 138 129 160 189 225 141 153 125 124 161 133 141 189 204  81   0   0   0]\n",
            " [  0   0   0   0  56 194 163 191 156 143 143 147 192 221 150 193 222 144 156 169 159 133 119 190  75   0   0   0]\n",
            " [  0   0   0   0  63 186 140 216 217 216 199 182 205 215  95 153 189 144 187 208 209 182 130 166  75   0   0   0]\n",
            " [  0   0   0   0  89 166 121 198 174 157 121 126 169 176 170 121 172 111 133 146 170 187 130 175  99   0   0   0]\n",
            " [  0   0   0   0 104 160 162 182 155 151 128 112 156 158 133 187 140 106 116 162 138  90 143 176 102   0   0   0]\n",
            " [  0   0   0   0 165 198 204 164 145 136 123 124 184 173 135 137 170 145 113 173 153  85 207 232 140   0   0   0]\n",
            " [  0   0   0   0 124 181 214 180 157 145 145 124 185 193 126 141 204 133 110 182 151 168 156 146 109   0   0   0]\n",
            " [  0   0   0   0 115  98 160 189 191 198 201 195 235 211 213 237 219 172 205 217 181 181 167 129 113   0   0   0]\n",
            " [  0   0   0   0 144 115 169 143 190 153 129 118 174 120 174 237 146 113 126 169 148 159 167 128 130   0   0   0]\n",
            " [  0   0   0   0 140 149 174  32 192 184 173 159 186 160 160  94 161 123 123 165 192  81 146 148 104   0   0   0]\n",
            " [  0   0   0   0   0   0   0   0  54 222 238 221 218 253 227 255 230 219 227 239 162   0   0   0   0   0   0   0]\n",
            " [  0   0   0   0   0   0   0   0   0   0  22  61  88  95 102 123  86  66  33   0   0   0   0   0   0   0   0   0]]\n"
          ]
        },
        {
          "output_type": "execute_result",
          "data": {
            "text/plain": [
              "<matplotlib.image.AxesImage at 0x7e5359369ed0>"
            ]
          },
          "metadata": {},
          "execution_count": 8
        },
        {
          "output_type": "display_data",
          "data": {
            "text/plain": [
              "<Figure size 640x480 with 1 Axes>"
            ],
            "image/png": "[encoded data removed]"
          },
          "metadata": {}
        }
      ]
    },
    {
      "cell_type": "markdown",
      "source": [
        "##Normalization"
      ],
      "metadata": {
        "id": "ceTKPFHd1l_c"
      }
    },
    {
      "cell_type": "code",
      "source": [
        "# Normalize the pixel values of the train and test images\n",
        "training_images  = training_images / 255.0\n",
        "testing_images = testing_images / 255.0"
      ],
      "metadata": {
        "id": "RSp6A9jQ1fEc"
      },
      "execution_count": 9,
      "outputs": []
    },
    {
      "cell_type": "markdown",
      "source": [
        "##Building the model"
      ],
      "metadata": {
        "id": "I3KTogYM11u0"
      }
    },
    {
      "cell_type": "code",
      "source": [
        "model = tf.keras.Sequential([tf.keras.layers.Flatten(),\n",
        "                             tf.keras.layers.Dense(128, activation=tf.nn.relu),\n",
        "                             tf.keras.layers.Dense(10,activation=tf.nn.softmax)])"
      ],
      "metadata": {
        "id": "pkUAs5_I1zEe"
      },
      "execution_count": 10,
      "outputs": []
    },
    {
      "cell_type": "markdown",
      "source": [
        "##Adding optimizer and fitting the model"
      ],
      "metadata": {
        "id": "PBhJx4tc2nN-"
      }
    },
    {
      "cell_type": "code",
      "source": [
        "model.compile(optimizer = tf.optimizers.Adam(),\n",
        "              loss = 'sparse_categorical_crossentropy',\n",
        "              metrics=['accuracy'])\n",
        "\n",
        "model.fit(training_images,training_labels, epochs=5)"
      ],
      "metadata": {
        "colab": {
          "base_uri": "https://localhost:8080/"
        },
        "id": "cXm4e9Sx1y6s",
        "outputId": "62b7cc48-a17e-4914-cd3c-52c2c3af7872"
      },
      "execution_count": 11,
      "outputs": [
        {
          "output_type": "stream",
          "name": "stdout",
          "text": [
            "Epoch 1/5\n",
            "1875/1875 [==============================] - 11s 5ms/step - loss: 0.4988 - accuracy: 0.8238\n",
            "Epoch 2/5\n",
            "1875/1875 [==============================] - 10s 5ms/step - loss: 0.3731 - accuracy: 0.8651\n",
            "Epoch 3/5\n",
            "1875/1875 [==============================] - 9s 5ms/step - loss: 0.3332 - accuracy: 0.8777\n",
            "Epoch 4/5\n",
            "1875/1875 [==============================] - 9s 5ms/step - loss: 0.3113 - accuracy: 0.8852\n",
            "Epoch 5/5\n",
            "1875/1875 [==============================] - 10s 5ms/step - loss: 0.2934 - accuracy: 0.8914\n"
          ]
        },
        {
          "output_type": "execute_result",
          "data": {
            "text/plain": [
              "<keras.callbacks.History at 0x7e53606a7190>"
            ]
          },
          "metadata": {},
          "execution_count": 11
        }
      ]
    },
    {
      "cell_type": "markdown",
      "source": [
        "##evaluation with test data"
      ],
      "metadata": {
        "id": "t3NeE2WL3lDf"
      }
    },
    {
      "cell_type": "code",
      "source": [
        "model.evaluate(testing_images,testing_labels)"
      ],
      "metadata": {
        "colab": {
          "base_uri": "https://localhost:8080/"
        },
        "id": "_eVFNvq-3bFR",
        "outputId": "4d50b398-f859-4540-971d-cbdc864e8f58"
      },
      "execution_count": 13,
      "outputs": [
        {
          "output_type": "stream",
          "name": "stdout",
          "text": [
            "313/313 [==============================] - 2s 4ms/step - loss: 0.3502 - accuracy: 0.8736\n"
          ]
        },
        {
          "output_type": "execute_result",
          "data": {
            "text/plain": [
              "[0.35019245743751526, 0.8736000061035156]"
            ]
          },
          "metadata": {},
          "execution_count": 13
        }
      ]
    },
    {
      "cell_type": "markdown",
      "source": [
        "##Exercises\n"
      ],
      "metadata": {
        "id": "DM6wU6US_boK"
      }
    },
    {
      "cell_type": "code",
      "source": [
        "classifications = model.predict(testing_images)\n",
        "\n",
        "print(classifications[0])"
      ],
      "metadata": {
        "colab": {
          "base_uri": "https://localhost:8080/"
        },
        "id": "PKolCSJT_a8L",
        "outputId": "a4899856-4fd7-4d4f-9e07-e0ecbd79e35f"
      },
      "execution_count": 15,
      "outputs": [
        {
          "output_type": "stream",
          "name": "stdout",
          "text": [
            "313/313 [==============================] - 1s 2ms/step\n",
            "[8.6456212e-06 1.0352353e-08 4.3679655e-08 5.3225144e-09 3.2998520e-07 9.8987641e-03 3.7409876e-07 2.2485271e-02 3.2768592e-05 9.6757376e-01]\n"
          ]
        }
      ]
    },
    {
      "cell_type": "markdown",
      "source": [
        "As you can see form the listed out probabilities from\n",
        "the Softmax function the greatest probability is chosen which would be 9\n"
      ],
      "metadata": {
        "id": "sac9QjkEAVeF"
      }
    },
    {
      "cell_type": "code",
      "source": [
        "print(testing_labels[0])"
      ],
      "metadata": {
        "colab": {
          "base_uri": "https://localhost:8080/"
        },
        "id": "mUtP3KB83uiD",
        "outputId": "c49f9aa5-3af7-4472-a25f-d72e2a849809"
      },
      "execution_count": 16,
      "outputs": [
        {
          "output_type": "stream",
          "name": "stdout",
          "text": [
            "9\n"
          ]
        }
      ]
    },
    {
      "cell_type": "markdown",
      "source": [
        "##Increased to 512 neurons"
      ],
      "metadata": {
        "id": "XtdS0FT8CLE1"
      }
    },
    {
      "cell_type": "code",
      "source": [
        "fmnist = tf.keras.datasets.fashion_mnist\n",
        "\n",
        "(training_images, training_labels) ,  (test_images, test_labels) = fmnist.load_data()\n",
        "\n",
        "training_images = training_images/255.0\n",
        "test_images = test_images/255.0\n",
        "\n",
        "model = tf.keras.models.Sequential([tf.keras.layers.Flatten(),\n",
        "                                    tf.keras.layers.Dense(512, activation=tf.nn.relu),\n",
        "                                    tf.keras.layers.Dense(10, activation=tf.nn.softmax)])\n",
        "\n",
        "model.compile(optimizer = 'adam',\n",
        "              loss = 'sparse_categorical_crossentropy')\n",
        "model.fit(training_images, training_labels, epochs=5)\n",
        "\n",
        "model.evaluate(test_images, test_labels)\n",
        "\n"
      ],
      "metadata": {
        "colab": {
          "base_uri": "https://localhost:8080/"
        },
        "id": "mSU1PMBP_98r",
        "outputId": "2e4d522b-97bb-408c-f95b-c006b080d44c"
      },
      "execution_count": 20,
      "outputs": [
        {
          "output_type": "stream",
          "name": "stdout",
          "text": [
            "Epoch 1/5\n",
            "1875/1875 [==============================] - 16s 8ms/step - loss: 0.4705\n",
            "Epoch 2/5\n",
            "1875/1875 [==============================] - 15s 8ms/step - loss: 0.3553\n",
            "Epoch 3/5\n",
            "1875/1875 [==============================] - 16s 9ms/step - loss: 0.3205\n",
            "Epoch 4/5\n",
            "1875/1875 [==============================] - 15s 8ms/step - loss: 0.2965\n",
            "Epoch 5/5\n",
            "1875/1875 [==============================] - 15s 8ms/step - loss: 0.2785\n",
            "313/313 [==============================] - 2s 7ms/step - loss: 0.3493\n"
          ]
        },
        {
          "output_type": "execute_result",
          "data": {
            "text/plain": [
              "0.34926387667655945"
            ]
          },
          "metadata": {},
          "execution_count": 20
        }
      ]
    },
    {
      "cell_type": "markdown",
      "source": [
        "##Implementation of callback"
      ],
      "metadata": {
        "id": "VAaAq3JtMIcT"
      }
    },
    {
      "cell_type": "code",
      "source": [
        "import tensorflow as tf\n",
        "\n",
        "# Instantiate the dataset API\n",
        "fmnist = tf.keras.datasets.fashion_mnist\n",
        "\n",
        "# Load the dataset\n",
        "(x_train, y_train),(x_test, y_test) = fmnist.load_data()\n",
        "\n",
        "# Normalize the pixel values\n",
        "x_train, x_test = x_train / 255.0, x_test / 255.0\n",
        "\n",
        "class myCallback(tf.keras.callbacks.Callback):\n",
        "  def on_epoch_end(self,epoch,logs={}):\n",
        "    if(logs.get('accuracy')>=0.7):\n",
        "      print(\"\\nAccuracy is greater than 0.7 so cancelling training!\")\n",
        "      self.model.stop_training = True\n",
        "\n",
        "callbacks = myCallback()\n",
        "\n",
        "model = tf.keras.models.Sequential([\n",
        "  tf.keras.layers.Flatten(input_shape=(28, 28)),\n",
        "  tf.keras.layers.Dense(512, activation=tf.nn.relu),\n",
        "  tf.keras.layers.Dense(10, activation=tf.nn.softmax)\n",
        "])\n",
        "\n",
        "# Compile the model\n",
        "model.compile(optimizer=tf.optimizers.Adam(),\n",
        "              loss='sparse_categorical_crossentropy',\n",
        "              metrics=['accuracy'])\n",
        "\n",
        "model.fit(x_train, y_train, epochs=10, callbacks=[callbacks])"
      ],
      "metadata": {
        "colab": {
          "base_uri": "https://localhost:8080/"
        },
        "id": "1M0CZ3xNMLd1",
        "outputId": "bc09bdf1-54d4-494e-edd6-06973abea1f0"
      },
      "execution_count": 27,
      "outputs": [
        {
          "output_type": "stream",
          "name": "stdout",
          "text": [
            "Epoch 1/10\n",
            "1874/1875 [============================>.] - ETA: 0s - loss: 0.4765 - accuracy: 0.8304\n",
            "Accuracy is greater than 0.7 so cancelling training!\n",
            "1875/1875 [==============================] - 16s 8ms/step - loss: 0.4765 - accuracy: 0.8303\n"
          ]
        },
        {
          "output_type": "execute_result",
          "data": {
            "text/plain": [
              "<keras.callbacks.History at 0x7e5357349d50>"
            ]
          },
          "metadata": {},
          "execution_count": 27
        }
      ]
    },
    {
      "cell_type": "code",
      "source": [],
      "metadata": {
        "id": "NEvGyhhaPuJw"
      },
      "execution_count": null,
      "outputs": []
    },
    {
      "cell_type": "code",
      "source": [],
      "metadata": {
        "id": "FK-ubfwQPuEW"
      },
      "execution_count": null,
      "outputs": []
    }
  ]
}